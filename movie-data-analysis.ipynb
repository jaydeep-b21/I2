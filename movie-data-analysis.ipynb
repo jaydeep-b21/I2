{
 "cells": [
  {
   "cell_type": "markdown",
   "metadata": {},
   "source": [
    "# Entering the Movie Industry\n",
    "\n",
    "**Authors:** Lhamu Tsering, Justin Fernandez\n",
    "***"
   ]
  },
  {
   "cell_type": "markdown",
   "metadata": {},
   "source": [
    "## Overview\n",
    "\n",
    "The goal of this project is to find information on the traits of success in the movie industry. This information will be used by Microsoft when deciding what kinds of movies to make at their new movie studio."
   ]
  },
  {
   "cell_type": "markdown",
   "metadata": {},
   "source": [
    "## Business Problem\n",
    "\n",
    "The OTT (Over-the-top) video streaming market has grown significantly in the last decade. Major OTT video streaming companies like Netflix, Amazon Prime Video, Hulu, have had much success in not just creating a platform for video streaming, but also creating their own original video content. The market size of the Movie and Video production industry is over $30 billion and Microsoft wants to join in. Without much experience in the field, they need our help with getting an insight into what they should be creating to be the most successful. \n",
    "\n",
    "**The questions that we seek to answer are**:\n",
    "1. What genre of movie is the most successful domestically / worldwide?\n",
    "2. Who should be hired to give the highest chance of a highly rated movie?\n",
    "3. What genre of movies are people most excited about voting on ?\n",
    "4. Are movie ratings affected by movie runtimes ?\n",
    "\n",
    "\n",
    "**The reason we seek to answer those questions**:\n",
    "1. For a new company a couple unsuccessful movies could be the demise of their brand and a chance of making it in the market. By creating movies with genres that appeal to the most people you give yourself the highest chance of a positive return on investment.\n",
    "2. Some actors, directors, and others on the movie set are better than others. Hiring those who are a part of highly rated movies gives you a better chance of creating a good movie. The more experienced the crew the better work that they can create.\n",
    "3. Most probably than not, a person will only vote on a movie if they have seen it in the first place. For someone to be drawn to watch a movie and then actually go online to the imdb site and vote on it tells us that the movie brought some level of excitement. I wanted to find in what genre do the movies most voted on fall in. For Microsoft this inquiry tells them which genre movies are most popular among movie goers.\n",
    "4. In knowing whether the time length of a movie affects whether a movie is rated, gives us an idea if people are put off by long movies or not. Based on the data, we can also provide some inference on the ideal time length of a movie. "
   ]
  },
  {
   "cell_type": "markdown",
   "metadata": {},
   "source": [
    "## Data Understanding\n",
    "\n",
    "The data used in this project comes from websites that specialize in movies/tv-shows and all information on those. The websites are Box Office Mojo, IMDb, Rotten Tomatoes, and TheMovieDB.org. In order to get a better understanding I am going to highlight the key components of each dataset.\n",
    "1. **imdb.title.crew.csv.gz** - This dataset contains the directors and writers for 146,000 movies. (146144 rows × 3 columns)\n",
    "2. **tmdb.movies.csv.gz** - This dataset conains TMDb information like rating, popularity, and id. Along with that it also has the genres, release date, and title. (26517 rows × 10 columns)\n",
    "3. **imdb.title.akas.csv.gz** - This dataset contains the titles used in other countries. (331703 rows × 8 columns)\n",
    "4. **imdb.name.basics.csv.gz** - This dataset contains the employess of the movie and their specfic role. (606648 rows × 6 columns)\n",
    "5. **rt.reviews.tsv.gz** - This dataset contains the reiews given on Rotten Tomatoes as well as the information about the reviewer. (54432 rows × 8 columns)\n",
    "6. **imdb.title.basics.csv.gz** - This dataset contains the general infomation on a movie like start year, runtime, and genres. (146144 rows × 6 columns)\n",
    "7. **rt.movie_info.tsv.gz** - This dataset contains the general information that Rotten Tomatoes provides. This includes a synopsis, rating, genre, directors, and much more. (1560 rows × 12 columns)\n",
    "8. **tn.movie_budgets.csv.gz** - This dataset contains the budget and gross income. (5782 rows × 6 columns)\n",
    "9. **bom.movie_gross.csv.gz** - This dataset contains the domestic and foreign gross. (3387 rows × 5 columns)\n",
    "10. **imdb.title.principals.csv.gz** - This dataset contains information on actors and the movies they were in. (1028186 rows × 6 columns)\n",
    "11. **imdb.title.ratings.csv.gz** - This dataset contains the movie ratings and the number of votes information from the IMDb site. (73856 rows x 3 columns)\n",
    "\n",
    "#### Question 1\n",
    "In order to answer question one, I will be using the **tmdb.movies.csv.gz** and **bom.movie_gross.csv.gz**. The reason for the **tmdb.movies.csv.gz** dataset is to access all movie titles along with their genre ids. The **bom.movie_gross.csv.gz** dataest will be used to access the domestic box office for every movie in that dataset. The **tn.movie_budgets.csv.gz** dataset will be used to access the worldwide box office for every movie in that dataset. Box office is the total amount of money spent at movie theaters to see that movie. These two splices of the dataset will be combined to show the domestic box office per movie which will then be further processed to show box office earnings based on genre.\n",
    "\n",
    "#### Question 2\n",
    "In order to answer question two, I will be using the **imdb.name.basics.csv.gz** and **imdb.title.ratings.csv.gz**. The **imdb.name.basics.csv.gz** will be used to access all the employees of movies along with their respective titles they are most known for. The **imdb.title.ratings.csv.gz** will be used to assign ratings to the movies that the employees are most known for. This will allow me to rank crew members based off the ratings off the movies they are most known for.\n",
    "\n",
    "#### Question 3 and 4\n",
    "\n",
    "In order to answer questions four and five, the datasets **imdb.title.basics.csv.gz**, **imdb.title.ratings.csv.gz** and the **tmdb.movies.basics.gz** datasets were used. the datasets were merged to produce a single dataset called `movie_ratings_info`, on which all analysis was performed. This dataset includes the movies and their properties that describe it like, movie runtime, movie average rating, the number of voters who voted on the ratings, movie release dates, and the genre the movie belonged to. The dataset has 71097 observations across 11 variables. This compiled data will be further prepared to use for evaluation.\n",
    "\n",
    "The sample of movies in the dataset are movies that can be found on the IMDb and the TMDb websites and for whom movie rating information was available. The target variable here is the average rating a movie received. The average_rating variable is the average value of the movie ratings information from the two websites. An average rating value is between the range of 1 to 10 where 10 is the highest rating indicating a well approved movie. \n",
    "\n",
    "The ratings value from the IMDb site, is calculated by taking a weighted average for ratings provided by all IMDb user, according to the [IMDb](https://help.imdb.com/article/imdb/track-movies-tv/ratings-faq/G67Y87TFYYP6TWAV#calculate) site. The rating ranges from 1 to 10. \n",
    "For rating value from the TMDB site, when users go online on the TMDb site, they get to vote on the movies by how many stars they want to give on a range of 1 to 5. Each star carries two points which bring the vote up to a scale of 1 to 10.  \n"
   ]
  },
  {
   "cell_type": "markdown",
   "metadata": {},
   "source": [
    "### Loading pandas libraries and the datasets"
   ]
  },
  {
   "cell_type": "markdown",
   "metadata": {},
   "source": [
    "The following code will import all the datasets and store them into a dictionary for easy access. This is also where all the normal imports needed for pandas and matplotlib will be done."
   ]
  },
  {
   "cell_type": "code",
   "execution_count": 2,
   "metadata": {},
   "outputs": [],
   "source": [
    "# Importing os to get path names for data\n",
    "import os\n",
    "import pandas as pd\n",
    "import numpy as np\n",
    "import matplotlib.pyplot as plt\n",
    "%matplotlib inline"
   ]
  },
  {
   "cell_type": "code",
   "execution_count": 3,
   "metadata": {},
   "outputs": [],
   "source": [
    "# this will automatically create urls based on the operating system to access data\n",
    "data_path = os.path.join('data','zippedData')\n",
    "files = os.listdir(data_path)"
   ]
  },
  {
   "cell_type": "code",
   "execution_count": 4,
   "metadata": {},
   "outputs": [],
   "source": [
    "import_paths = [os.path.join(data_path,file) for file in files]"
   ]
  },
  {
   "cell_type": "code",
   "execution_count": 5,
   "metadata": {},
   "outputs": [],
   "source": [
    "data = {}\n",
    "for path in import_paths:\n",
    "    try:\n",
    "        df = pd.read_csv(path) #this will fail on the .tsv\n",
    "    except:\n",
    "        df = pd.read_csv(path,delimiter='\\t', encoding='unicode_escape') # this will catch the failed\n",
    "    data[path.split('/')[-1]] = df"
   ]
  },
  {
   "cell_type": "markdown",
   "metadata": {},
   "source": [
    "***\n",
    "## Question 1 (a)\n",
    "\n",
    "What genre of movie is the most successful domestically / worldwide?"
   ]
  },
  {
   "cell_type": "markdown",
   "metadata": {},
   "source": [
    "### Data Preparation\n",
    "\n",
    "The first step of this process was to extract the data we needed from the tables and put them into their own dataframes. Next was to merge these two dataframes on the title of the movie so the result would be a table containing `title`, `genre_ids`, and `domestic_gross`.\n"
   ]
  },
  {
   "cell_type": "code",
   "execution_count": 6,
   "metadata": {},
   "outputs": [],
   "source": [
    "# getting movie title and genre from the df\n",
    "id_df = data['tmdb.movies.csv.gz'].loc[:,['genre_ids','original_title']]\n",
    "\n",
    "# changing column title to be the same with other df\n",
    "id_df.rename(columns={'original_title':'title'},inplace=True)\n",
    "\n",
    "# getting the title and gross into sep df\n",
    "money_df = data['bom.movie_gross.csv.gz'].loc[:,['title','domestic_gross']]\n",
    "\n",
    "# merging the movie info with the gross income info\n",
    "money_id_df = money_df.merge(id_df,how='left',on='title') "
   ]
  },
  {
   "cell_type": "markdown",
   "metadata": {},
   "source": [
    "The next step was to clean the dataframe so that there were niether duplicates nor NaN's. The data set with `title` and `genre_ids` did contain duplicate movie titles but these were removed as their `genre_ids` were not correct (as opposed to joining them). The next set of drops were to drop NaN's from `genre_ids` and `domestic_gross`. The problem here was that in the **tmdb.movies.csv.gz** dataframe some of the movies did not have `genre_ids` and was not due to the merge. The same problem applies to `domestic_gross` in that the **bom.movie_gross.csv.gz** dataframe did not have `domestic_gross` for all movies. "
   ]
  },
  {
   "cell_type": "code",
   "execution_count": 7,
   "metadata": {},
   "outputs": [],
   "source": [
    "# dropping duplicate titles that had wrong id's\n",
    "money_id_df.drop_duplicates(subset='title',inplace = True)\n",
    "\n",
    "# getting rid of movies that do not have genres\n",
    "money_id_df.dropna(subset=['genre_ids'],inplace=True)\n",
    "\n",
    "# dropping columns that do no have domestic_gross\n",
    "money_id_df.dropna(subset=['domestic_gross'],inplace=True)"
   ]
  },
  {
   "cell_type": "markdown",
   "metadata": {},
   "source": [
    "Now that the data is cleaned and stored I am going to change all genre ID's into the genre that they represent."
   ]
  },
  {
   "cell_type": "code",
   "execution_count": 8,
   "metadata": {},
   "outputs": [],
   "source": [
    "# this dictonary will conver the IMDb genre id's to their associated english word\n",
    "genre_id_to_string = {28:'action',\n",
    "                      16:'animated',\n",
    "                      99:'documentary',\n",
    "                      18:'drama',\n",
    "                      10751:'family',\n",
    "                      14:'fantasy',\n",
    "                      36:'history',\n",
    "                      35:'comedy',\n",
    "                      10752:'war',\n",
    "                      80:'crime',\n",
    "                      10402:'music',\n",
    "                      9648:'mystery',\n",
    "                      10749:'romance',\n",
    "                      878:'sci-fi',\n",
    "                      27:'horror',\n",
    "                      10770:'TV-movie',\n",
    "                      53:'thriller',\n",
    "                      37:'western',\n",
    "                      12:'adventure'}"
   ]
  },
  {
   "cell_type": "code",
   "execution_count": 9,
   "metadata": {},
   "outputs": [],
   "source": [
    "# because genre_ids are stored as a string in between brackets and seperated by commas \n",
    "# this function will clean that to return an actual list of real words\n",
    "# example\n",
    "# input: '[28,16,99]' (type = string)\n",
    "# output: [action, animated, documentary] (type = list)\n",
    "def convert_id_to_name(id_list):\n",
    "    id_list = id_list[1:-1].replace(',','').split()\n",
    "    for id in enumerate(id_list):\n",
    "        id_list[id[0]] = genre_id_to_string[int(id[1])]\n",
    "    return(id_list)\n",
    "\n",
    "# applying convert_id_to_name so that the ids are now readable names\n",
    "money_id_df.genre_ids = money_id_df.genre_ids.apply(lambda x: 'nan' if str(x) == 'nan' else convert_id_to_name(x))"
   ]
  },
  {
   "cell_type": "markdown",
   "metadata": {},
   "source": [
    "Now that the data is in the correct format the following for loop iteration along with a dictionary was used to iterate through the `genre_ids` and create a key value pair of the genre and a list of the `domestic_gross`that each genre was a part of. For example, if _Avengers_ is classfied as action, fantasy, and adventure and grossed \\\\$10,000,000 domestically. Those three genres would be assigned \\\\$10,000,000 to their list. After these lists are created the mean is calculated to show the mean domestic box office of any movie containing that genre."
   ]
  },
  {
   "cell_type": "code",
   "execution_count": 10,
   "metadata": {
    "scrolled": true
   },
   "outputs": [],
   "source": [
    "# dictionary to hold the following key value pairs:\n",
    "# key = genre, value = total money grossed\n",
    "money_for_each_genre = {}\n",
    "for genre_money in money_id_df.iterrows():\n",
    "    ids = list(genre_money[1])[-1]\n",
    "    money = list(genre_money[1])[-2]\n",
    "    if ids != 'nan':\n",
    "        for id in ids:\n",
    "            if id in money_for_each_genre.keys():\n",
    "                money_for_each_genre[id].append(money) \n",
    "            else:\n",
    "                money_for_each_genre[id] = [money]\n",
    "                \n",
    "# going through dictionary to take the mean of all movies in a genre\n",
    "for genre_money in money_for_each_genre.items():\n",
    "    money_list = genre_money[1]\n",
    "    money_for_each_genre[genre_money[0]] = int(np.mean(money_list))"
   ]
  },
  {
   "cell_type": "markdown",
   "metadata": {},
   "source": [
    "The dictionary is then converted back to a dataframe for ease of use with matplotlib. This dataframe was then sorted by domestic box office to have a descending list of domestic box office."
   ]
  },
  {
   "cell_type": "code",
   "execution_count": 11,
   "metadata": {},
   "outputs": [],
   "source": [
    "# converting back to dataframe for easy sorting / extraction for graphing\n",
    "final_dataframe = pd.DataFrame.from_dict(money_for_each_genre,orient='index')\n",
    "final_dataframe.sort_values(by=0,ascending=False,inplace=True)"
   ]
  },
  {
   "cell_type": "markdown",
   "metadata": {},
   "source": [
    "### Data Modeling"
   ]
  },
  {
   "cell_type": "code",
   "execution_count": 12,
   "metadata": {
    "scrolled": true
   },
   "outputs": [
    {
     "data": {
      "text/plain": [
       "Text(0, 0.5, 'Gross Domestic Box Office')"
      ]
     },
     "execution_count": 12,
     "metadata": {},
     "output_type": "execute_result"
    },
    {
     "data": {
      "image/png": "[encoded data removed]",
      "text/plain": [
       "<Figure size 1440x288 with 1 Axes>"
      ]
     },
     "metadata": {
      "needs_background": "light"
     },
     "output_type": "display_data"
    }
   ],
   "source": [
    "x = final_dataframe.index\n",
    "y = final_dataframe.iloc[:,0]\n",
    "x = x[0:10]\n",
    "y = y[0:10]\n",
    "fig = plt.figure(figsize = (20,4))\n",
    "ax = fig.subplots()\n",
    "ax.bar(x,y,color='salmon')\n",
    "ax.set_title('Gross Domestic Box Office vs Genre of Movie')\n",
    "ax.set_xlabel('Genre of Movie')\n",
    "ax.set_ylabel('Gross Domestic Box Office')\n"
   ]
  },
  {
   "cell_type": "markdown",
   "metadata": {},
   "source": [
    "### Evaluation\n",
    "\n",
    "In the visuatlization of this problem we can see that there are some genres that on average bring in much more money at the box office than others. Adventure, animated, sci-fi, fantasy, action, and family make significantly more money as seen by the massive drop-off from family to TV-movie. This will help Microsoft choose what kind of movies to make from the beggining to maximize their chance of making a profit on their movies. \n"
   ]
  },
  {
   "cell_type": "markdown",
   "metadata": {},
   "source": [
    "***\n",
    "## Question 1 (b)\n",
    "\n",
    "In order to further reinforce the insight provided in question 1 (a) I recreated the same work on a different dataset containing domestic and worldwide box office. Almost the same exact process was done except for the use of `worldwide_gross` as opposed to `domestic_gross`."
   ]
  },
  {
   "cell_type": "code",
   "execution_count": 13,
   "metadata": {},
   "outputs": [],
   "source": [
    "# get the gross income from domestic and worldwide\n",
    "tn_money = data['tn.movie_budgets.csv.gz']\n",
    "tn_money.rename(columns={'movie':'title'},inplace=True)\n",
    "\n",
    "# get the genre ids\n",
    "imdb_movies = data['tmdb.movies.csv.gz'].loc[:,['genre_ids','original_title']]\n",
    "imdb_movies.rename(columns={'original_title':'title'},inplace=True)\n",
    "\n",
    "# merge the two cells on title\n",
    "money_for_movies = imdb_movies.merge(tn_money,how='left',on='title') \n",
    "\n",
    "# select wanted data\n",
    "money_for_movies = money_for_movies.loc[:,['title','genre_ids','worldwide_gross']]\n",
    "\n",
    "# drop columns without a wordlwide gross\n",
    "money_for_movies.dropna(subset=['worldwide_gross'],inplace=True)\n",
    "\n",
    "# clean the money columns due to $ and , being used to represent money (ex ten thousand dollars  = $10,000)\n",
    "def clean_money(money):\n",
    "    money = money.replace('$','')\n",
    "    return float(money.replace(',',''))\n",
    "\n",
    "# cleaning money column\n",
    "money_for_movies.worldwide_gross = money_for_movies.worldwide_gross.apply(lambda x: clean_money(x))\n",
    "\n",
    "# converting genre ids to genres\n",
    "money_for_movies.genre_ids = money_for_movies.genre_ids.apply(lambda x: 'nan' if str(x) == 'nan' else convert_id_to_name(x))\n",
    "\n",
    "# adding money together based off of genre\n",
    "world_money = {}\n",
    "for item in money_for_movies.iterrows():\n",
    "    ids = list(item[1])[1]\n",
    "    money = list(item[1])[-1]\n",
    "    if ids != 'nan':\n",
    "        for id in ids:\n",
    "            if id in world_money.keys():\n",
    "                world_money[id].append(money)\n",
    "            else:\n",
    "                world_money[id] = [money]\n",
    "        \n",
    "# going through dictionary to take the mean of all movies in a genre\n",
    "for money_genre in world_money.items():\n",
    "    money_list = money_genre[1]\n",
    "    world_money[money_genre[0]] = int(np.mean(money_list))\n",
    "\n",
    "# creating a DataFrame from the dictionary\n",
    "output_dataframe = pd.DataFrame.from_dict(world_money, orient='index')\n",
    "\n",
    "# sorting value based on total box office income\n",
    "output_dataframe.sort_values(by=0,ascending=False,inplace=True)"
   ]
  },
  {
   "cell_type": "code",
   "execution_count": 14,
   "metadata": {},
   "outputs": [],
   "source": [
    "import matplotlib.pyplot as plt\n",
    "%matplotlib inline"
   ]
  },
  {
   "cell_type": "code",
   "execution_count": 15,
   "metadata": {
    "scrolled": false
   },
   "outputs": [
    {
     "data": {
      "text/plain": [
       "Text(0, 0.5, 'Gross Worldwide Box Office')"
      ]
     },
     "execution_count": 15,
     "metadata": {},
     "output_type": "execute_result"
    },
    {
     "data": {
      "image/png": "[encoded data removed]",
      "text/plain": [
       "<Figure size 1440x288 with 1 Axes>"
      ]
     },
     "metadata": {
      "needs_background": "light"
     },
     "output_type": "display_data"
    }
   ],
   "source": [
    "x = output_dataframe.index\n",
    "y = output_dataframe.iloc[:,0]\n",
    "x = x[0:10]\n",
    "y = y[0:10]\n",
    "fig = plt.figure(figsize = (20,4))\n",
    "ax = fig.subplots()\n",
    "ax.bar(x,y,color='skyblue')\n",
    "ax.set_title('Gross Worldwide Box Office vs Genre of Movie')\n",
    "ax.set_xlabel('Genre of Movie')\n",
    "ax.set_ylabel('Gross Worldwide Box Office')\n"
   ]
  },
  {
   "cell_type": "markdown",
   "metadata": {},
   "source": [
    "### Evaluation\n",
    "\n",
    "As we can see almost the same exact 6 genres were vastly higher than all others. The biggest difference here is that animated and adventure movies made vastly more money than all the others as the other top 4 drop signifcantly from the first 2. Due to this being the mean it is affected by outliers but for this specific case it is good to know that some genres like adventure and animated have the chance of making billions where as genres like western and crime have a much lower cap and average."
   ]
  },
  {
   "cell_type": "markdown",
   "metadata": {},
   "source": [
    "***\n",
    "## Question 2\n",
    "\n",
    "Who should be hired to give the highest chance of a highly rated movie?\n",
    "\n",
    "### Data Preperation\n",
    "\n",
    "In order to find out **who** to hire I am going to need to get the ratings of the movies that they were a part of. This is not a perfect representation of their skills but it does give insight into their possibility of contributing to a successful movie. This information is located in the **imdb.title.ratings.csv.gz** data set where I extract the movies (given in tconst) and their respective ratings. This is then converted into a dictionary so that an input of a movie's ID (tconst) will return that movie's rating."
   ]
  },
  {
   "cell_type": "code",
   "execution_count": 16,
   "metadata": {},
   "outputs": [],
   "source": [
    "# extracting needed columns of tconst and average rating\n",
    "movie_rating = data['imdb.title.ratings.csv.gz'][['tconst','averagerating']]\n",
    "\n",
    "# setting the index to the tconst for ease of translation to dictionary\n",
    "movie_rating.set_index('tconst',inplace=True)\n",
    "\n",
    "# creating a dictionary of key value pairs:\n",
    "# key = tconst\n",
    "# value = rating\n",
    "tconst_to_rating = movie_rating.to_dict('index')"
   ]
  },
  {
   "cell_type": "markdown",
   "metadata": {},
   "source": [
    "Now that the dictionary is created I am going to drop all rows where a name does not have any `know_for_titles` or a `primary_profession`. These names can not be considered because there is no way to assign them a rating or score. If they were assigned a score and do not have a primary profession there is no way to know what they did well."
   ]
  },
  {
   "cell_type": "code",
   "execution_count": 17,
   "metadata": {
    "scrolled": true
   },
   "outputs": [],
   "source": [
    "best_people = data['imdb.name.basics.csv.gz'].dropna(subset=['known_for_titles','primary_profession'])"
   ]
  },
  {
   "cell_type": "markdown",
   "metadata": {},
   "source": [
    "The below funciton (`change_to_name`) takes a person's `known_for_titles` (which is a string of tconsts seperated by comma) and converts them to the rating that movie recieved"
   ]
  },
  {
   "cell_type": "code",
   "execution_count": 18,
   "metadata": {},
   "outputs": [],
   "source": [
    "def change_to_name(tconst_string): #x going to be a string 'tt0837562,tt2398241,tt0844471,tt0118553'\n",
    "    # splitting to have individual tconsts\n",
    "    tconst_list = tconst_string.split(',')\n",
    "    rating_list = []\n",
    "    \n",
    "    # some tconsts are not in the dataframe so we skip them\n",
    "    for tconst in tconst_list:\n",
    "        try:\n",
    "            #appending this rating to the list\n",
    "            rating_list.append(tconst_to_rating[tconst]['averagerating'])\n",
    "        except:\n",
    "            pass\n",
    "    \n",
    "    # taking the mean of all ratings\n",
    "    if len(rating_list)>0:\n",
    "        return np.mean(rating_list)\n",
    "    #if there are no ratings we return NaN\n",
    "    else:\n",
    "        return np.nan"
   ]
  },
  {
   "cell_type": "code",
   "execution_count": 19,
   "metadata": {},
   "outputs": [],
   "source": [
    "# this is to block a strange error with assinging values to data frame splices\n",
    "pd.options.mode.chained_assignment = None  # default='warn'"
   ]
  },
  {
   "cell_type": "markdown",
   "metadata": {},
   "source": [
    "This will convert the tconsts into a mean of all ratings of those movies"
   ]
  },
  {
   "cell_type": "code",
   "execution_count": 20,
   "metadata": {
    "scrolled": true
   },
   "outputs": [],
   "source": [
    "# input: 'tt0837562,tt2398241,tt0844471,tt0118553' type(string)\n",
    "# output: 6.0 type(float)\n",
    "best_people['average_rating'] = best_people['known_for_titles'].apply(change_to_name)"
   ]
  },
  {
   "cell_type": "code",
   "execution_count": 21,
   "metadata": {
    "scrolled": true
   },
   "outputs": [],
   "source": [
    "# dropping rows for names who did not have any of their known titles\n",
    "# match to the ratings database\n",
    "best_people.dropna(subset=['average_rating'],inplace=True)"
   ]
  },
  {
   "cell_type": "markdown",
   "metadata": {},
   "source": [
    "The dataframe is then sorted by the ratings that each person recieved. This will allow us to choose those who worked on movies with the highest rating."
   ]
  },
  {
   "cell_type": "code",
   "execution_count": 22,
   "metadata": {
    "scrolled": true
   },
   "outputs": [],
   "source": [
    "best_people = best_people.sort_values('average_rating',ascending=False)"
   ]
  },
  {
   "cell_type": "markdown",
   "metadata": {},
   "source": [
    "Now that this data is condensed into a single dataframe further indexing is needed in order to find the best actor, writer, etc. This can be done for any profession involved in moving making but the most common are done here."
   ]
  },
  {
   "cell_type": "code",
   "execution_count": 23,
   "metadata": {},
   "outputs": [],
   "source": [
    "# best actor\n",
    "best_actor = best_people[(best_people.primary_profession.str.contains('actor'))]\n",
    "best_actress = best_people[(best_people.primary_profession.str.contains('actress'))]\n",
    "\n",
    "# best director\n",
    "best_director = best_people[(best_people.primary_profession.str.contains('director'))]\n",
    "\n",
    "# best writer\n",
    "best_writer = best_people[(best_people.primary_profession.str.contains('writer'))]"
   ]
  },
  {
   "cell_type": "markdown",
   "metadata": {},
   "source": [
    "### Data Modeling\n",
    "The most affective way to show **who** should be hired is to show who was the most highly rated."
   ]
  },
  {
   "cell_type": "code",
   "execution_count": 24,
   "metadata": {},
   "outputs": [
    {
     "name": "stdout",
     "output_type": "stream",
     "text": [
      "TOP 5 ACTORS\n",
      "#1: Lance Vogel\n",
      "#2: Mark Alan Campbell\n",
      "#3: Seth Michael\n",
      "#4: Luke Telfer\n",
      "#5: Benji Riggs\n",
      "#6: George Hurd\n",
      "#7: Don McClendon\n",
      "#8: Carl Piccarreta\n",
      "#9: Chris Biasizzo\n",
      "#10: Patrick Blanner\n"
     ]
    }
   ],
   "source": [
    "print('TOP 5 ACTORS')\n",
    "for item in enumerate(list(best_actor[\"primary_name\"].head(10))):\n",
    "    print('#{}: {}'.format((item[0]+1),item[1]))"
   ]
  },
  {
   "cell_type": "code",
   "execution_count": 25,
   "metadata": {
    "scrolled": true
   },
   "outputs": [
    {
     "name": "stdout",
     "output_type": "stream",
     "text": [
      "TOP 5 ACTRESSES\n",
      "#1: Cristina Duarte\n",
      "#2: Donna Schulte\n",
      "#3: Vickie Doerr\n",
      "#4: Diane Ferranti\n",
      "#5: Aurora Sharon Lewis\n",
      "#6: Annabel Spinks-Jones\n",
      "#7: Jennie Swardh\n",
      "#8: Aleida Guevara\n",
      "#9: Mikey Madison\n",
      "#10: HaleyRae Christian Cannell\n"
     ]
    }
   ],
   "source": [
    "print('TOP 5 ACTRESSES')\n",
    "for item in enumerate(list(best_actress[\"primary_name\"].head(10))):\n",
    "    print('#{}: {}'.format((item[0]+1),item[1]))"
   ]
  },
  {
   "cell_type": "code",
   "execution_count": 26,
   "metadata": {},
   "outputs": [
    {
     "name": "stdout",
     "output_type": "stream",
     "text": [
      "TOP 5 DIRECTORS\n",
      "#1: Cristina Duarte\n",
      "#2: Michiel Brongers\n",
      "#3: Masahiro Hayakawa\n",
      "#4: Daniel Alexander\n",
      "#5: Vickie Doerr\n",
      "#6: Loreto Di Cesare\n",
      "#7: Chad Carpenter\n",
      "#8: Andrew Jezard\n",
      "#9: Dante Tanikie-Montagnani\n",
      "#10: Pablo Arévalo\n"
     ]
    }
   ],
   "source": [
    "print('TOP 5 DIRECTORS')\n",
    "for item in enumerate(list(best_director[\"primary_name\"].head(10))):\n",
    "    print('#{}: {}'.format((item[0]+1),item[1]))"
   ]
  },
  {
   "cell_type": "code",
   "execution_count": 27,
   "metadata": {
    "scrolled": false
   },
   "outputs": [
    {
     "name": "stdout",
     "output_type": "stream",
     "text": [
      "TOP 5 WRITERS\n",
      "#1: Cristina Duarte\n",
      "#2: Lance Vogel\n",
      "#3: Michiel Brongers\n",
      "#4: Daniel Alexander\n",
      "#5: Don McClendon\n",
      "#6: Dante Tanikie-Montagnani\n",
      "#7: Nick Saporito\n",
      "#8: Javi Larrauri\n",
      "#9: Rok Andres\n",
      "#10: Alicia Karami\n"
     ]
    }
   ],
   "source": [
    "print('TOP 5 WRITERS')\n",
    "for item in enumerate(list(best_writer[\"primary_name\"].head(10))):\n",
    "    print('#{}: {}'.format((item[0]+1),item[1]))"
   ]
  },
  {
   "cell_type": "markdown",
   "metadata": {},
   "source": [
    "### Evaluation\n",
    "\n",
    "In the lists above we can see those actors/actresses, directors, and writers who worked on movies that recieved the highest ratings. This does not mean that they will produce highly rated content but that they have produced highly rated content in the past. These results can be helpful but they could be much more accurate if more movies were associated with each crew member in the dataset. With some having 4 and others only having 1 it can definitly sway the results if one person happened to work on a smaller film that recived only a small number of rating rather than a bigger film with thousands of reviews. Microsoft can use this information to have a smaller pool of candidates when they are looking to hire.\n"
   ]
  },
  {
   "cell_type": "markdown",
   "metadata": {},
   "source": [
    "***\n",
    "## Question 3 and 4\n",
    "\n",
    "What genre of movies are people most excited about voting on ?\n",
    "Are movie ratings affected by movie runtimes ?\n",
    "\n",
    "### Data Preparation\n"
   ]
  },
  {
   "cell_type": "markdown",
   "metadata": {},
   "source": [
    "In preparing the dataset, variables that were duplicates (like the multiple title variables, the duplicate genre variable) were dropped from the final data. There are two variables created to help answer the question; `average_rating` and `number_votes`. \n",
    "\n",
    "Some effort was made to salvage any missing rating and voter count information, by replacing the missing values in one column with its corresponding other rating or voter count column.\n",
    "The `average_rating` variable was then created as a weighted average of the movie ratings information from the two websites. Similarly, the `number_votes` variable was also created as a weighted average of the voter count information from the two websites. Any observation with missing values that affected the target variable `average_rating` and 'number_votes' was also dropped.\n",
    "\n",
    "Missing movie rating information had to be dropped because keeping it may create noise in the dataset by indicating something that may not be true. Just because a movie has no rating, does not mean the movie was rated 0 or 1. Replacing missing values with the mean or median here, also adds misinformation to the dataset. Hence, observations with missing value for movie rating information was dropped.\n",
    "\n",
    "The popularity value as calculated on tmdb is based on the volume of interactions, like number of votes, number of users that marked the movie as favorite, number of views etc. This variable does not have any range and the website draws meaning from it mainly through its popularity ranking score per day, which is not very helpful in our analysis. "
   ]
  },
  {
   "cell_type": "code",
   "execution_count": 28,
   "metadata": {},
   "outputs": [],
   "source": [
    "# Performing an outer merge of IMDb title basic and title ratings datasets on \n",
    "# movie id column, 'tconst'. \n",
    "# This is to gather movie information from the IMDb datatsets.\n",
    "imdb_movie = data['imdb.title.basics.csv.gz'].merge(data['imdb.title.ratings.csv.gz'], how = 'outer', on = 'tconst')\n",
    "\n",
    "# Performing an outer merge on the IMDB movie dataframe and the TMDB movies \n",
    "# dataset to collect movie ratings information in one dataframe\n",
    "movie_ratings_info = data['tmdb.movies.csv.gz'].merge(imdb_movie, how = 'outer', on = 'original_title')"
   ]
  },
  {
   "cell_type": "code",
   "execution_count": 29,
   "metadata": {},
   "outputs": [
    {
     "data": {
      "text/html": [
       "<div>\n",
       "<style scoped>\n",
       "    .dataframe tbody tr th:only-of-type {\n",
       "        vertical-align: middle;\n",
       "    }\n",
       "\n",
       "    .dataframe tbody tr th {\n",
       "        vertical-align: top;\n",
       "    }\n",
       "\n",
       "    .dataframe thead th {\n",
       "        text-align: right;\n",
       "    }\n",
       "</style>\n",
       "<table border=\"1\" class=\"dataframe\">\n",
       "  <thead>\n",
       "    <tr style=\"text-align: right;\">\n",
       "      <th></th>\n",
       "      <th>Unnamed: 0</th>\n",
       "      <th>genre_ids</th>\n",
       "      <th>id</th>\n",
       "      <th>original_language</th>\n",
       "      <th>original_title</th>\n",
       "      <th>popularity</th>\n",
       "      <th>release_date</th>\n",
       "      <th>title</th>\n",
       "      <th>vote_average</th>\n",
       "      <th>vote_count</th>\n",
       "      <th>tconst</th>\n",
       "      <th>primary_title</th>\n",
       "      <th>start_year</th>\n",
       "      <th>runtime_minutes</th>\n",
       "      <th>genres</th>\n",
       "      <th>averagerating</th>\n",
       "      <th>numvotes</th>\n",
       "    </tr>\n",
       "  </thead>\n",
       "  <tbody>\n",
       "    <tr>\n",
       "      <th>0</th>\n",
       "      <td>0.0</td>\n",
       "      <td>[12, 14, 10751]</td>\n",
       "      <td>12444.0</td>\n",
       "      <td>en</td>\n",
       "      <td>Harry Potter and the Deathly Hallows: Part 1</td>\n",
       "      <td>33.533</td>\n",
       "      <td>2010-11-19</td>\n",
       "      <td>Harry Potter and the Deathly Hallows: Part 1</td>\n",
       "      <td>7.7</td>\n",
       "      <td>10788.0</td>\n",
       "      <td>tt0926084</td>\n",
       "      <td>Harry Potter and the Deathly Hallows: Part 1</td>\n",
       "      <td>2010.0</td>\n",
       "      <td>146.0</td>\n",
       "      <td>Adventure,Fantasy,Mystery</td>\n",
       "      <td>7.7</td>\n",
       "      <td>425530.0</td>\n",
       "    </tr>\n",
       "    <tr>\n",
       "      <th>1</th>\n",
       "      <td>1.0</td>\n",
       "      <td>[14, 12, 16, 10751]</td>\n",
       "      <td>10191.0</td>\n",
       "      <td>en</td>\n",
       "      <td>How to Train Your Dragon</td>\n",
       "      <td>28.734</td>\n",
       "      <td>2010-03-26</td>\n",
       "      <td>How to Train Your Dragon</td>\n",
       "      <td>7.7</td>\n",
       "      <td>7610.0</td>\n",
       "      <td>tt0892769</td>\n",
       "      <td>How to Train Your Dragon</td>\n",
       "      <td>2010.0</td>\n",
       "      <td>98.0</td>\n",
       "      <td>Action,Adventure,Animation</td>\n",
       "      <td>8.1</td>\n",
       "      <td>611299.0</td>\n",
       "    </tr>\n",
       "  </tbody>\n",
       "</table>\n",
       "</div>"
      ],
      "text/plain": [
       "   Unnamed: 0            genre_ids       id original_language  \\\n",
       "0         0.0      [12, 14, 10751]  12444.0                en   \n",
       "1         1.0  [14, 12, 16, 10751]  10191.0                en   \n",
       "\n",
       "                                 original_title  popularity release_date  \\\n",
       "0  Harry Potter and the Deathly Hallows: Part 1      33.533   2010-11-19   \n",
       "1                      How to Train Your Dragon      28.734   2010-03-26   \n",
       "\n",
       "                                          title  vote_average  vote_count  \\\n",
       "0  Harry Potter and the Deathly Hallows: Part 1           7.7     10788.0   \n",
       "1                      How to Train Your Dragon           7.7      7610.0   \n",
       "\n",
       "      tconst                                 primary_title  start_year  \\\n",
       "0  tt0926084  Harry Potter and the Deathly Hallows: Part 1      2010.0   \n",
       "1  tt0892769                      How to Train Your Dragon      2010.0   \n",
       "\n",
       "   runtime_minutes                      genres  averagerating  numvotes  \n",
       "0            146.0   Adventure,Fantasy,Mystery            7.7  425530.0  \n",
       "1             98.0  Action,Adventure,Animation            8.1  611299.0  "
      ]
     },
     "execution_count": 29,
     "metadata": {},
     "output_type": "execute_result"
    }
   ],
   "source": [
    "movie_ratings_info.head(2)"
   ]
  },
  {
   "cell_type": "code",
   "execution_count": 30,
   "metadata": {},
   "outputs": [
    {
     "name": "stdout",
     "output_type": "stream",
     "text": [
      "<class 'pandas.core.frame.DataFrame'>\n",
      "Int64Index: 160208 entries, 0 to 160207\n",
      "Data columns (total 9 columns):\n",
      "genre_ids            31925 non-null object\n",
      "original_language    31925 non-null object\n",
      "original_title       160187 non-null object\n",
      "release_date         31925 non-null object\n",
      "vote_average         31925 non-null float64\n",
      "vote_count           31925 non-null float64\n",
      "runtime_minutes      117246 non-null float64\n",
      "averagerating        76248 non-null float64\n",
      "numvotes             76248 non-null float64\n",
      "dtypes: float64(5), object(4)\n",
      "memory usage: 12.2+ MB\n"
     ]
    }
   ],
   "source": [
    "# Dropping columns irrelevant to evaluating target variable; movie ratings\n",
    "movie_ratings_info.drop(columns = ['Unnamed: 0','id', 'tconst', 'start_year','primary_title', 'title', 'genres', 'popularity'], axis = 1, inplace = True)\n",
    "\n",
    "# Getting information on datatypes of each of the columns in the dataframe\n",
    "# and a preview of missing values\n",
    "movie_ratings_info.info()"
   ]
  },
  {
   "cell_type": "code",
   "execution_count": 31,
   "metadata": {},
   "outputs": [
    {
     "data": {
      "text/plain": [
       "genre_ids            128283\n",
       "original_language    128283\n",
       "original_title           21\n",
       "release_date         128283\n",
       "vote_average         128283\n",
       "vote_count           128283\n",
       "runtime_minutes       42962\n",
       "averagerating         83960\n",
       "numvotes              83960\n",
       "dtype: int64"
      ]
     },
     "execution_count": 31,
     "metadata": {},
     "output_type": "execute_result"
    }
   ],
   "source": [
    "movie_ratings_info.isna().sum()"
   ]
  },
  {
   "cell_type": "code",
   "execution_count": 32,
   "metadata": {},
   "outputs": [],
   "source": [
    "movie_ratings_info['genre_ids'] = movie_ratings_info['genre_ids'].apply(lambda x: 'nan' if str(x) == 'nan' else convert_id_to_name(x))"
   ]
  },
  {
   "cell_type": "code",
   "execution_count": 33,
   "metadata": {},
   "outputs": [],
   "source": [
    "# The two average rating columns; vote_average and average rating are movie\n",
    "# ratings from two different datasets which I intend to compile to\n",
    "# one column for each movie. Since vote_average has more missing values, I am \n",
    "# replacing with what I can from the average rating column.\n",
    "\n",
    "movie_ratings_info['vote_average'].where(movie_ratings_info['vote_average'] > 0, other = movie_ratings_info['averagerating'], inplace = True)"
   ]
  },
  {
   "cell_type": "code",
   "execution_count": 34,
   "metadata": {},
   "outputs": [],
   "source": [
    "movie_ratings_info['vote_count'].where(movie_ratings_info['vote_count'] > 0, other = movie_ratings_info['numvotes'], inplace = True)"
   ]
  },
  {
   "cell_type": "code",
   "execution_count": 35,
   "metadata": {},
   "outputs": [
    {
     "data": {
      "text/plain": [
       "genre_ids                 0\n",
       "original_language    128283\n",
       "original_title           21\n",
       "release_date         128283\n",
       "vote_average          70010\n",
       "vote_count            69926\n",
       "runtime_minutes       42962\n",
       "averagerating         83960\n",
       "numvotes              83960\n",
       "dtype: int64"
      ]
     },
     "execution_count": 35,
     "metadata": {},
     "output_type": "execute_result"
    }
   ],
   "source": [
    "movie_ratings_info.isna().sum()"
   ]
  },
  {
   "cell_type": "code",
   "execution_count": 36,
   "metadata": {},
   "outputs": [],
   "source": [
    "# Creating a composed movie rating column 'average_rating' which takes on the \n",
    "# weighted average of the two rating columns as values  \n",
    "movie_ratings_info['average_rating'] = (movie_ratings_info['averagerating'] + movie_ratings_info['vote_average'])/2"
   ]
  },
  {
   "cell_type": "code",
   "execution_count": 37,
   "metadata": {},
   "outputs": [],
   "source": [
    "# Creating a composed number of votes column 'number_votes', which takes on the \n",
    "# average of the two vote count columns as values\n",
    "movie_ratings_info['number_votes'] = (movie_ratings_info['numvotes'] + movie_ratings_info['vote_count'])/2"
   ]
  },
  {
   "cell_type": "code",
   "execution_count": 38,
   "metadata": {},
   "outputs": [
    {
     "data": {
      "text/html": [
       "<div>\n",
       "<style scoped>\n",
       "    .dataframe tbody tr th:only-of-type {\n",
       "        vertical-align: middle;\n",
       "    }\n",
       "\n",
       "    .dataframe tbody tr th {\n",
       "        vertical-align: top;\n",
       "    }\n",
       "\n",
       "    .dataframe thead th {\n",
       "        text-align: right;\n",
       "    }\n",
       "</style>\n",
       "<table border=\"1\" class=\"dataframe\">\n",
       "  <thead>\n",
       "    <tr style=\"text-align: right;\">\n",
       "      <th></th>\n",
       "      <th>genre_ids</th>\n",
       "      <th>original_language</th>\n",
       "      <th>original_title</th>\n",
       "      <th>release_date</th>\n",
       "      <th>vote_average</th>\n",
       "      <th>vote_count</th>\n",
       "      <th>runtime_minutes</th>\n",
       "      <th>averagerating</th>\n",
       "      <th>numvotes</th>\n",
       "      <th>average_rating</th>\n",
       "      <th>number_votes</th>\n",
       "    </tr>\n",
       "  </thead>\n",
       "  <tbody>\n",
       "    <tr>\n",
       "      <th>0</th>\n",
       "      <td>[adventure, fantasy, family]</td>\n",
       "      <td>en</td>\n",
       "      <td>Harry Potter and the Deathly Hallows: Part 1</td>\n",
       "      <td>2010-11-19</td>\n",
       "      <td>7.7</td>\n",
       "      <td>10788.0</td>\n",
       "      <td>146.0</td>\n",
       "      <td>7.7</td>\n",
       "      <td>425530.0</td>\n",
       "      <td>7.7</td>\n",
       "      <td>218159.0</td>\n",
       "    </tr>\n",
       "    <tr>\n",
       "      <th>1</th>\n",
       "      <td>[fantasy, adventure, animated, family]</td>\n",
       "      <td>en</td>\n",
       "      <td>How to Train Your Dragon</td>\n",
       "      <td>2010-03-26</td>\n",
       "      <td>7.7</td>\n",
       "      <td>7610.0</td>\n",
       "      <td>98.0</td>\n",
       "      <td>8.1</td>\n",
       "      <td>611299.0</td>\n",
       "      <td>7.9</td>\n",
       "      <td>309454.5</td>\n",
       "    </tr>\n",
       "  </tbody>\n",
       "</table>\n",
       "</div>"
      ],
      "text/plain": [
       "                                genre_ids original_language  \\\n",
       "0            [adventure, fantasy, family]                en   \n",
       "1  [fantasy, adventure, animated, family]                en   \n",
       "\n",
       "                                 original_title release_date  vote_average  \\\n",
       "0  Harry Potter and the Deathly Hallows: Part 1   2010-11-19           7.7   \n",
       "1                      How to Train Your Dragon   2010-03-26           7.7   \n",
       "\n",
       "   vote_count  runtime_minutes  averagerating  numvotes  average_rating  \\\n",
       "0     10788.0            146.0            7.7  425530.0             7.7   \n",
       "1      7610.0             98.0            8.1  611299.0             7.9   \n",
       "\n",
       "   number_votes  \n",
       "0      218159.0  \n",
       "1      309454.5  "
      ]
     },
     "execution_count": 38,
     "metadata": {},
     "output_type": "execute_result"
    }
   ],
   "source": [
    "movie_ratings_info.head(2)"
   ]
  },
  {
   "cell_type": "code",
   "execution_count": 39,
   "metadata": {},
   "outputs": [
    {
     "data": {
      "text/plain": [
       "genre_ids                 0\n",
       "original_language    128283\n",
       "original_title           21\n",
       "release_date         128283\n",
       "vote_average          70010\n",
       "vote_count            69926\n",
       "runtime_minutes       42962\n",
       "averagerating         83960\n",
       "numvotes              83960\n",
       "average_rating        83960\n",
       "number_votes          83960\n",
       "dtype: int64"
      ]
     },
     "execution_count": 39,
     "metadata": {},
     "output_type": "execute_result"
    }
   ],
   "source": [
    "movie_ratings_info.isna().sum()"
   ]
  },
  {
   "cell_type": "code",
   "execution_count": 40,
   "metadata": {},
   "outputs": [
    {
     "data": {
      "text/plain": [
       "(160208, 11)"
      ]
     },
     "execution_count": 40,
     "metadata": {},
     "output_type": "execute_result"
    }
   ],
   "source": [
    "movie_ratings_info.shape"
   ]
  },
  {
   "cell_type": "code",
   "execution_count": 41,
   "metadata": {},
   "outputs": [],
   "source": [
    "# Dropping observations for which the value of number of votes is null or Nan\n",
    "movie_ratings_info.dropna(subset = ['number_votes'], inplace = True)"
   ]
  },
  {
   "cell_type": "code",
   "execution_count": 42,
   "metadata": {},
   "outputs": [
    {
     "data": {
      "text/plain": [
       "genre_ids                0\n",
       "original_language    58357\n",
       "original_title           0\n",
       "release_date         58357\n",
       "vote_average             0\n",
       "vote_count               0\n",
       "runtime_minutes       7713\n",
       "averagerating            0\n",
       "numvotes                 0\n",
       "average_rating           0\n",
       "number_votes             0\n",
       "dtype: int64"
      ]
     },
     "execution_count": 42,
     "metadata": {},
     "output_type": "execute_result"
    }
   ],
   "source": [
    "movie_ratings_info.isna().sum()"
   ]
  },
  {
   "cell_type": "code",
   "execution_count": 43,
   "metadata": {},
   "outputs": [
    {
     "data": {
      "text/plain": [
       "(76248, 11)"
      ]
     },
     "execution_count": 43,
     "metadata": {},
     "output_type": "execute_result"
    }
   ],
   "source": [
    "movie_ratings_info.shape"
   ]
  },
  {
   "cell_type": "code",
   "execution_count": 44,
   "metadata": {},
   "outputs": [],
   "source": [
    "# Dropping any duplicate observations or movies in the dataset\n",
    "movie_ratings_info.drop_duplicates(subset='original_title', inplace = True)"
   ]
  },
  {
   "cell_type": "code",
   "execution_count": 45,
   "metadata": {},
   "outputs": [
    {
     "name": "stdout",
     "output_type": "stream",
     "text": [
      "<class 'pandas.core.frame.DataFrame'>\n",
      "Int64Index: 71097 entries, 0 to 160194\n",
      "Data columns (total 11 columns):\n",
      "genre_ids            71097 non-null object\n",
      "original_language    13801 non-null object\n",
      "original_title       71097 non-null object\n",
      "release_date         13801 non-null object\n",
      "vote_average         71097 non-null float64\n",
      "vote_count           71097 non-null float64\n",
      "runtime_minutes      63771 non-null float64\n",
      "averagerating        71097 non-null float64\n",
      "numvotes             71097 non-null float64\n",
      "average_rating       71097 non-null float64\n",
      "number_votes         71097 non-null float64\n",
      "dtypes: float64(7), object(4)\n",
      "memory usage: 6.5+ MB\n"
     ]
    }
   ],
   "source": [
    "movie_ratings_info.info()"
   ]
  },
  {
   "cell_type": "code",
   "execution_count": 46,
   "metadata": {},
   "outputs": [
    {
     "data": {
      "text/plain": [
       "0"
      ]
     },
     "execution_count": 46,
     "metadata": {},
     "output_type": "execute_result"
    }
   ],
   "source": [
    "movie_ratings_info['genre_ids'].isna().sum()"
   ]
  },
  {
   "cell_type": "markdown",
   "metadata": {},
   "source": [
    "### Data Modeling"
   ]
  },
  {
   "cell_type": "markdown",
   "metadata": {},
   "source": [
    "To answer the question of genre of movies voted on, I wanted to understand my target variable and how it related to other variables in the dataset.  To do this, I first calculated the descriptive statistics on the data to analyze all relevant variables."
   ]
  },
  {
   "cell_type": "code",
   "execution_count": 47,
   "metadata": {},
   "outputs": [
    {
     "data": {
      "text/html": [
       "<div>\n",
       "<style scoped>\n",
       "    .dataframe tbody tr th:only-of-type {\n",
       "        vertical-align: middle;\n",
       "    }\n",
       "\n",
       "    .dataframe tbody tr th {\n",
       "        vertical-align: top;\n",
       "    }\n",
       "\n",
       "    .dataframe thead th {\n",
       "        text-align: right;\n",
       "    }\n",
       "</style>\n",
       "<table border=\"1\" class=\"dataframe\">\n",
       "  <thead>\n",
       "    <tr style=\"text-align: right;\">\n",
       "      <th></th>\n",
       "      <th>vote_average</th>\n",
       "      <th>vote_count</th>\n",
       "      <th>runtime_minutes</th>\n",
       "      <th>averagerating</th>\n",
       "      <th>numvotes</th>\n",
       "      <th>average_rating</th>\n",
       "      <th>number_votes</th>\n",
       "    </tr>\n",
       "  </thead>\n",
       "  <tbody>\n",
       "    <tr>\n",
       "      <th>count</th>\n",
       "      <td>71097.000000</td>\n",
       "      <td>71097.000000</td>\n",
       "      <td>63771.000000</td>\n",
       "      <td>71097.000000</td>\n",
       "      <td>7.109700e+04</td>\n",
       "      <td>71097.000000</td>\n",
       "      <td>71097.000000</td>\n",
       "    </tr>\n",
       "    <tr>\n",
       "      <th>mean</th>\n",
       "      <td>6.323973</td>\n",
       "      <td>494.428879</td>\n",
       "      <td>94.661131</td>\n",
       "      <td>6.338775</td>\n",
       "      <td>3.506031e+03</td>\n",
       "      <td>6.331374</td>\n",
       "      <td>2000.229876</td>\n",
       "    </tr>\n",
       "    <tr>\n",
       "      <th>std</th>\n",
       "      <td>1.536417</td>\n",
       "      <td>6873.210860</td>\n",
       "      <td>212.512783</td>\n",
       "      <td>1.475228</td>\n",
       "      <td>3.044963e+04</td>\n",
       "      <td>1.472581</td>\n",
       "      <td>16537.437322</td>\n",
       "    </tr>\n",
       "    <tr>\n",
       "      <th>min</th>\n",
       "      <td>0.500000</td>\n",
       "      <td>1.000000</td>\n",
       "      <td>3.000000</td>\n",
       "      <td>1.000000</td>\n",
       "      <td>5.000000e+00</td>\n",
       "      <td>0.950000</td>\n",
       "      <td>3.000000</td>\n",
       "    </tr>\n",
       "    <tr>\n",
       "      <th>25%</th>\n",
       "      <td>5.400000</td>\n",
       "      <td>9.000000</td>\n",
       "      <td>81.000000</td>\n",
       "      <td>5.500000</td>\n",
       "      <td>1.400000e+01</td>\n",
       "      <td>5.500000</td>\n",
       "      <td>13.000000</td>\n",
       "    </tr>\n",
       "    <tr>\n",
       "      <th>50%</th>\n",
       "      <td>6.500000</td>\n",
       "      <td>26.000000</td>\n",
       "      <td>91.000000</td>\n",
       "      <td>6.500000</td>\n",
       "      <td>4.900000e+01</td>\n",
       "      <td>6.500000</td>\n",
       "      <td>44.500000</td>\n",
       "    </tr>\n",
       "    <tr>\n",
       "      <th>75%</th>\n",
       "      <td>7.400000</td>\n",
       "      <td>123.000000</td>\n",
       "      <td>104.000000</td>\n",
       "      <td>7.400000</td>\n",
       "      <td>2.800000e+02</td>\n",
       "      <td>7.350000</td>\n",
       "      <td>232.000000</td>\n",
       "    </tr>\n",
       "    <tr>\n",
       "      <th>max</th>\n",
       "      <td>10.000000</td>\n",
       "      <td>784780.000000</td>\n",
       "      <td>51420.000000</td>\n",
       "      <td>10.000000</td>\n",
       "      <td>1.841066e+06</td>\n",
       "      <td>10.000000</td>\n",
       "      <td>931626.000000</td>\n",
       "    </tr>\n",
       "  </tbody>\n",
       "</table>\n",
       "</div>"
      ],
      "text/plain": [
       "       vote_average     vote_count  runtime_minutes  averagerating  \\\n",
       "count  71097.000000   71097.000000     63771.000000   71097.000000   \n",
       "mean       6.323973     494.428879        94.661131       6.338775   \n",
       "std        1.536417    6873.210860       212.512783       1.475228   \n",
       "min        0.500000       1.000000         3.000000       1.000000   \n",
       "25%        5.400000       9.000000        81.000000       5.500000   \n",
       "50%        6.500000      26.000000        91.000000       6.500000   \n",
       "75%        7.400000     123.000000       104.000000       7.400000   \n",
       "max       10.000000  784780.000000     51420.000000      10.000000   \n",
       "\n",
       "           numvotes  average_rating   number_votes  \n",
       "count  7.109700e+04    71097.000000   71097.000000  \n",
       "mean   3.506031e+03        6.331374    2000.229876  \n",
       "std    3.044963e+04        1.472581   16537.437322  \n",
       "min    5.000000e+00        0.950000       3.000000  \n",
       "25%    1.400000e+01        5.500000      13.000000  \n",
       "50%    4.900000e+01        6.500000      44.500000  \n",
       "75%    2.800000e+02        7.350000     232.000000  \n",
       "max    1.841066e+06       10.000000  931626.000000  "
      ]
     },
     "execution_count": 47,
     "metadata": {},
     "output_type": "execute_result"
    }
   ],
   "source": [
    "movie_ratings_info.describe()"
   ]
  },
  {
   "cell_type": "code",
   "execution_count": 48,
   "metadata": {},
   "outputs": [
    {
     "data": {
      "text/plain": [
       "0    6.6\n",
       "dtype: float64"
      ]
     },
     "execution_count": 48,
     "metadata": {},
     "output_type": "execute_result"
    }
   ],
   "source": [
    "movie_ratings_info['average_rating'].mode()"
   ]
  },
  {
   "cell_type": "markdown",
   "metadata": {},
   "source": [
    "The average `average-rating` for a movie in our sample of movies is 6.33. Most of the movies are rated between 4.85 and 7.80, based on one standard deviation of 1.47 on either side of the average average-rating. The 50th percentile or the median average-rating is 6.5 and the average-rating value for movies occurring the most number of times, or the mode is 6.6. \n",
    "\n",
    "Notice, how the mean, median and the mode of the sample `average_rating` is very similar, from which we can guess that the distribution of `average-rating` for movies in the imdb and tmdb sites follow a close to normal distribution. This allows for a good confidence in target variable in our sample to represent movie ratings in the industry.\n",
    "\n",
    "Similarly, based on our sample the average movie runtime is about 95 minutes."
   ]
  },
  {
   "cell_type": "code",
   "execution_count": 49,
   "metadata": {},
   "outputs": [
    {
     "data": {
      "image/png": "[encoded data removed]",
      "text/plain": [
       "<Figure size 1008x432 with 1 Axes>"
      ]
     },
     "metadata": {
      "needs_background": "light"
     },
     "output_type": "display_data"
    }
   ],
   "source": [
    "# Generate a figure with a single axis\n",
    "figure1, ax = plt.subplots(figsize = (14, 6))\n",
    "#Generate a histogram on the ax\n",
    "x = movie_ratings_info['average_rating']\n",
    "ax.hist(x, bins = 29, range = (0, 10))\n",
    "\n",
    "# Hide the top and right spines\n",
    "ax.spines['top'].set_visible(False)\n",
    "ax.spines['right'].set_visible(False)\n",
    "\n",
    "#Set axes labels\n",
    "ax.set_xlabel('Average Rating Values', fontsize = 15, weight = 'bold')\n",
    "ax.set_ylabel('Frequency of Average Rating Values', fontsize = 15, weight = 'bold')\n",
    "#adjusting tick parameter\n",
    "ax.tick_params('both', labelsize = 15, pad = 5)\n",
    "#setting figure title\n",
    "ax.set_title('Average Rating Distribution', pad = 20, fontsize = 25, weight = 'bold')\n",
    "\n",
    "# adding vertical lines to create section of data\n",
    "# 1 std dev on either side of the mean\n",
    "ax.axvline(4.85, color = 'black', alpha = 0.7)\n",
    "ax.axvline(7.8, color = 'black', alpha = 0.7)\n",
    "\n",
    "#Adding text to indicate sample proportions in distribution\n",
    "ax.text(0,  2000, 'About 25% of the movies in the sample, \\n have low average ratings', fontsize = 12)\n",
    "ax.text(4, 7500, 'About 50% of the movies in the \\n sample have average ratings', fontsize = 12)\n",
    "ax.text(8, 4000, 'About 25% of the movies in the \\n sample have high average ratings', fontsize = 12)\n",
    "\n",
    "plt.show();"
   ]
  },
  {
   "cell_type": "code",
   "execution_count": 50,
   "metadata": {},
   "outputs": [
    {
     "data": {
      "text/html": [
       "<div>\n",
       "<style scoped>\n",
       "    .dataframe tbody tr th:only-of-type {\n",
       "        vertical-align: middle;\n",
       "    }\n",
       "\n",
       "    .dataframe tbody tr th {\n",
       "        vertical-align: top;\n",
       "    }\n",
       "\n",
       "    .dataframe thead th {\n",
       "        text-align: right;\n",
       "    }\n",
       "</style>\n",
       "<table border=\"1\" class=\"dataframe\">\n",
       "  <thead>\n",
       "    <tr style=\"text-align: right;\">\n",
       "      <th></th>\n",
       "      <th>vote_average</th>\n",
       "      <th>vote_count</th>\n",
       "      <th>runtime_minutes</th>\n",
       "      <th>averagerating</th>\n",
       "      <th>numvotes</th>\n",
       "      <th>average_rating</th>\n",
       "      <th>number_votes</th>\n",
       "    </tr>\n",
       "  </thead>\n",
       "  <tbody>\n",
       "    <tr>\n",
       "      <th>vote_average</th>\n",
       "      <td>1.000000</td>\n",
       "      <td>0.021686</td>\n",
       "      <td>-0.006521</td>\n",
       "      <td>0.912639</td>\n",
       "      <td>0.030176</td>\n",
       "      <td>0.978814</td>\n",
       "      <td>0.032288</td>\n",
       "    </tr>\n",
       "    <tr>\n",
       "      <th>vote_count</th>\n",
       "      <td>0.021686</td>\n",
       "      <td>1.000000</td>\n",
       "      <td>0.008666</td>\n",
       "      <td>0.022458</td>\n",
       "      <td>0.285556</td>\n",
       "      <td>0.022562</td>\n",
       "      <td>0.470698</td>\n",
       "    </tr>\n",
       "    <tr>\n",
       "      <th>runtime_minutes</th>\n",
       "      <td>-0.006521</td>\n",
       "      <td>0.008666</td>\n",
       "      <td>1.000000</td>\n",
       "      <td>-0.007132</td>\n",
       "      <td>0.012249</td>\n",
       "      <td>-0.006988</td>\n",
       "      <td>0.013079</td>\n",
       "    </tr>\n",
       "    <tr>\n",
       "      <th>averagerating</th>\n",
       "      <td>0.912639</td>\n",
       "      <td>0.022458</td>\n",
       "      <td>-0.007132</td>\n",
       "      <td>1.000000</td>\n",
       "      <td>0.044023</td>\n",
       "      <td>0.976999</td>\n",
       "      <td>0.045196</td>\n",
       "    </tr>\n",
       "    <tr>\n",
       "      <th>numvotes</th>\n",
       "      <td>0.030176</td>\n",
       "      <td>0.285556</td>\n",
       "      <td>0.012249</td>\n",
       "      <td>0.044023</td>\n",
       "      <td>1.000000</td>\n",
       "      <td>0.037794</td>\n",
       "      <td>0.979968</td>\n",
       "    </tr>\n",
       "    <tr>\n",
       "      <th>average_rating</th>\n",
       "      <td>0.978814</td>\n",
       "      <td>0.022562</td>\n",
       "      <td>-0.006988</td>\n",
       "      <td>0.976999</td>\n",
       "      <td>0.037794</td>\n",
       "      <td>1.000000</td>\n",
       "      <td>0.039482</td>\n",
       "    </tr>\n",
       "    <tr>\n",
       "      <th>number_votes</th>\n",
       "      <td>0.032288</td>\n",
       "      <td>0.470698</td>\n",
       "      <td>0.013079</td>\n",
       "      <td>0.045196</td>\n",
       "      <td>0.979968</td>\n",
       "      <td>0.039482</td>\n",
       "      <td>1.000000</td>\n",
       "    </tr>\n",
       "  </tbody>\n",
       "</table>\n",
       "</div>"
      ],
      "text/plain": [
       "                 vote_average  vote_count  runtime_minutes  averagerating  \\\n",
       "vote_average         1.000000    0.021686        -0.006521       0.912639   \n",
       "vote_count           0.021686    1.000000         0.008666       0.022458   \n",
       "runtime_minutes     -0.006521    0.008666         1.000000      -0.007132   \n",
       "averagerating        0.912639    0.022458        -0.007132       1.000000   \n",
       "numvotes             0.030176    0.285556         0.012249       0.044023   \n",
       "average_rating       0.978814    0.022562        -0.006988       0.976999   \n",
       "number_votes         0.032288    0.470698         0.013079       0.045196   \n",
       "\n",
       "                 numvotes  average_rating  number_votes  \n",
       "vote_average     0.030176        0.978814      0.032288  \n",
       "vote_count       0.285556        0.022562      0.470698  \n",
       "runtime_minutes  0.012249       -0.006988      0.013079  \n",
       "averagerating    0.044023        0.976999      0.045196  \n",
       "numvotes         1.000000        0.037794      0.979968  \n",
       "average_rating   0.037794        1.000000      0.039482  \n",
       "number_votes     0.979968        0.039482      1.000000  "
      ]
     },
     "execution_count": 50,
     "metadata": {},
     "output_type": "execute_result"
    }
   ],
   "source": [
    "movie_ratings_info.corr()"
   ]
  },
  {
   "cell_type": "markdown",
   "metadata": {},
   "source": [
    "To understand whether average rating for a movie changed with as the number of voters on a movie was higher or lower. On running a correlation test and plotting the two variables using a scatterplot, I found that average rating for a movie was not much affected by how many people voted on the movie. \n",
    "\n",
    "From the figure you can see how most of the observations cluster low and flat and then lean very slightly to the right as it slopes upwards, the average rating increasing as the number of voters for a movie increases. You could almost say that there is no correlation between the two variables. The correlation value between the two variables is a positive 0.039. No matter how many people vote on a movie, the average rating for that movie rarely changes."
   ]
  },
  {
   "cell_type": "code",
   "execution_count": 51,
   "metadata": {},
   "outputs": [
    {
     "data": {
      "image/png": "[encoded data removed]",
      "text/plain": [
       "<Figure size 720x360 with 1 Axes>"
      ]
     },
     "metadata": {
      "needs_background": "light"
     },
     "output_type": "display_data"
    }
   ],
   "source": [
    "# Generating Figure\n",
    "figure2, ax = plt.subplots(figsize = (10,5))\n",
    "# Generating scatter plot to preview variable relationship\n",
    "x = movie_ratings_info['average_rating']\n",
    "y = movie_ratings_info['number_votes']\n",
    "ax.scatter(x,y)\n",
    "\n",
    "# Hide the top and right spines\n",
    "ax.spines['top'].set_visible(False)\n",
    "ax.spines['right'].set_visible(False)\n",
    "\n",
    "#Set axes labels\n",
    "ax.set_xlabel('Average Rating Values', fontsize = 15, weight = 'bold')\n",
    "ax.set_ylabel('Frequency of Votes', fontsize = 15, weight = 'bold')\n",
    "\n",
    "#adjusting tick parameter\n",
    "ax.tick_params('both', labelsize = 12, pad = 5)\n",
    "\n",
    "#setting figure title\n",
    "ax.set_title('Correlation between number of votes \\n and Average rating', pad = 20, fontsize = 15, weight = 'bold')\n",
    "\n",
    "# adding text to axes explaining correlation\n",
    "ax.text(1, 600000, 'The correlation between the two variables is .039 \\n which can also be visualized here in the plot as a  \\n very weak positive', fontsize =12)\n",
    "\n",
    "plt.show();"
   ]
  },
  {
   "cell_type": "code",
   "execution_count": 52,
   "metadata": {},
   "outputs": [],
   "source": [
    "genres_list = genre_id_to_string.values()\n",
    "\n",
    "genre_counter = {}\n",
    "genre_counter = dict.fromkeys(genres_list)\n",
    "\n",
    "for genre in genre_counter.keys():\n",
    "    genre_counter[genre] =  0"
   ]
  },
  {
   "cell_type": "code",
   "execution_count": 53,
   "metadata": {},
   "outputs": [],
   "source": [
    "# I want to create a genre counter to see how many times a genre appears in the group of movies with ratings higher than 8\n",
    "\n",
    "for genre_list in movie_ratings_info['genre_ids']:\n",
    "    for genre in genre_list:\n",
    "        if genre in genre_counter.keys(): \n",
    "            genre_counter[genre] += 1\n",
    "        \n",
    "        "
   ]
  },
  {
   "cell_type": "markdown",
   "metadata": {},
   "source": [
    "Movies tend to have overlapping genres or fall in the category of more than one genre. Genres describe a movie based on the story, plot, character and setting of a movie [source](https://milnepublishing.geneseo.edu/exploring-movie-construction-and-production/chapter/2-what-is-genre-and-how-is-it-determined/). Movie viewers also use this information to decide on whether they are interested in watching the movie or not.\n",
    "\n",
    "To see what kinds of movie people are watching for movies in the sample, a horizontal bar plot is used here to visualize the genres that appeared most in the sample. Most movies in the sample fall in the drama genre and a good proportion of them fall in the thriller, horrow, comedy, and documentary genre. "
   ]
  },
  {
   "cell_type": "code",
   "execution_count": 54,
   "metadata": {},
   "outputs": [
    {
     "data": {
      "image/png": "[encoded data removed]",
      "text/plain": [
       "<Figure size 720x504 with 1 Axes>"
      ]
     },
     "metadata": {
      "needs_background": "light"
     },
     "output_type": "display_data"
    }
   ],
   "source": [
    "# Generating figure\n",
    "figure3, ax = plt.subplots(figsize = (10, 7))\n",
    "\n",
    "# generating a horizontal bar plot on the ax\n",
    "x = list(genre_counter.values())\n",
    "y = list(genre_counter.keys())\n",
    "ax.barh(y, x)\n",
    "\n",
    "#Setting axes labels\n",
    "ax.set_xlabel('Frequency of Genres rated', fontsize = 15, weight = 'bold')\n",
    "ax.set_ylabel('Movie Genres', fontsize = 15, weight = 'bold')\n",
    "\n",
    "#adjusting tick parameter\n",
    "ax.tick_params('both', labelsize = 12, pad = 5)\n",
    "\n",
    "#setting figure title\n",
    "ax.set_title('Frequency Of Movie Ratings Within Genres', pad = 20, fontsize = 15, weight = 'bold')\n",
    "\n",
    "#Hiding top and right spines\n",
    "ax.spines['top'].set_visible(False)\n",
    "ax.spines['right'].set_visible(False)\n",
    "\n",
    "plt.show();"
   ]
  },
  {
   "cell_type": "markdown",
   "metadata": {},
   "source": [
    "I also wanted to see if average rating of a movie is affected by the runtime of a movie. I used a subset of the sample dataset for all the movies in the sample with average ratings greater than 8. The scatterplot on the two variables shows that there is no correlation between the two variables. It can be infered from here that how long or short a movie is, is not considered when a movie viewer casts a movie rating."
   ]
  },
  {
   "cell_type": "code",
   "execution_count": 55,
   "metadata": {},
   "outputs": [],
   "source": [
    "ratings_more_than_8 = movie_ratings_info[movie_ratings_info['average_rating'] > 8]  \n",
    "\n",
    "ratings_over_8 = ratings_more_than_8[ratings_more_than_8['number_votes'] > 50]\n"
   ]
  },
  {
   "cell_type": "code",
   "execution_count": 56,
   "metadata": {},
   "outputs": [
    {
     "data": {
      "image/png": "[encoded data removed]",
      "text/plain": [
       "<Figure size 720x360 with 1 Axes>"
      ]
     },
     "metadata": {
      "needs_background": "light"
     },
     "output_type": "display_data"
    }
   ],
   "source": [
    "# Generating Figure\n",
    "figure4, ax = plt.subplots(figsize = (10, 5))\n",
    "# Generating scatter plot to preview variable relationship\n",
    "x = ratings_over_8['average_rating']\n",
    "y = ratings_over_8['runtime_minutes']\n",
    "ax.scatter(x,y)\n",
    "\n",
    "# Hide the top and right spines\n",
    "ax.spines['top'].set_visible(False)\n",
    "ax.spines['right'].set_visible(False)\n",
    "\n",
    "#Set axes labels\n",
    "ax.set_xlabel('Average Rating Values', fontsize = 12, weight = 'bold')\n",
    "ax.set_ylabel('Movie Runtime in Minutes', fontsize = 12, weight = 'bold')\n",
    "\n",
    "# #adjusting tick parameter\n",
    "ax.tick_params('both', labelsize = 12, pad = 5)\n",
    "\n",
    "#setting figure title\n",
    "ax.set_title('Relationship Between Movie Runtime \\n and Movie Average Rating', pad = 10, fontsize = 15, weight = 'bold')\n",
    "\n",
    "# # Adding explanatory text\n",
    "ax.text(8.75, 1000, 'There is no correlation between the two variables', fontsize =12)\n",
    "\n",
    "plt.show();"
   ]
  },
  {
   "cell_type": "code",
   "execution_count": 57,
   "metadata": {},
   "outputs": [
    {
     "data": {
      "text/plain": [
       "109.01646706586827"
      ]
     },
     "execution_count": 57,
     "metadata": {},
     "output_type": "execute_result"
    }
   ],
   "source": [
    "ratings_over_8['runtime_minutes'].mean()"
   ]
  },
  {
   "cell_type": "markdown",
   "metadata": {},
   "source": [
    "### Evaluation"
   ]
  },
  {
   "cell_type": "markdown",
   "metadata": {},
   "source": [
    "I have good confidence in my target variable as a representative of the average ratings for all movies in the industry. The light shone on the average rating for a movie can be dark or bright. To some movie viewers average rating for a movie is enough to decide on it, while others need to know more about the movie and place little significance on just the movie average rating. Regardless it is an indicator of how good or bad a movie is. \n",
    "Based on the results, I can offer Microsoft information that the genres drama, comedy, horror, thriller and documentary movies have been popular among viewers, that the expected average rating for a good movie is about 6.9, and the average runtime of a movie (on IMBD and TMDB) in the industry is about 109 minutes."
   ]
  },
  {
   "cell_type": "markdown",
   "metadata": {},
   "source": [
    "## Conclusions\n",
    "\n",
    "In conclusion, our analysis of the data leads to the following recommendations:\n",
    "\n",
    "1. Movies in the genres of adventure, animated, sci-fi, fantasy, action, and family have grossed the highest at the American box office. In terms of earnings these are the genres that Microsoft should explore.\n",
    "2. Microsoft should hire movie crew members who have historically worked on successful movies.\n",
    "3. Microsoft should also explore movies in the drama, horror, thriller, comedy and documentary genres.\n",
    "4. Average runtime of movies in the industry is about 109 minutes. \n",
    "\n",
    "Limitations of this dataset was that it was constrained to movies in the the four source sites, that are very similar in what they offer. The dataset also was much lacking with missing values and/or null values for several observations. \n",
    "\n",
    "<b>Further steps </b> must be taken to seek out better data that assess the success of a movie. To be with the times of our current situation, the next steps would be to look at data from movies released in the last year to assess how the COVID pandemic affected the movie industry. Getting a dataset with less null values to improve the findings that we have made with the current dataset\n"
   ]
  },
  {
   "cell_type": "code",
   "execution_count": null,
   "metadata": {},
   "outputs": [],
   "source": []
  }
 ],
 "metadata": {
  "kernelspec": {
   "display_name": "Python 3",
   "language": "python",
   "name": "python3"
  },
  "language_info": {
   "codemirror_mode": {
    "name": "ipython",
    "version": 3
   },
   "file_extension": ".py",
   "mimetype": "text/x-python",
   "name": "python",
   "nbconvert_exporter": "python",
   "pygments_lexer": "ipython3",
   "version": "3.8.12"
  }
 },
 "nbformat": 4,
 "nbformat_minor": 4
}
